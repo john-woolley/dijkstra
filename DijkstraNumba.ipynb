{
 "cells": [
  {
   "cell_type": "code",
   "execution_count": 1,
   "id": "c770b26a",
   "metadata": {},
   "outputs": [],
   "source": [
    "import numpy as np\n",
    "import scipy\n",
    "from numba import njit, prange\n",
    "from numba.core import types\n",
    "from numba.typed import Dict\n",
    "from numba.types import boolean"
   ]
  },
  {
   "cell_type": "code",
   "execution_count": 2,
   "id": "75c97076",
   "metadata": {},
   "outputs": [],
   "source": [
    "def gen_graph_pure(nverts=3e3, dims=3):\n",
    "    vertices = {i: np.random.uniform(size=dims) for i in range(int(nverts))}\n",
    "    return vertices"
   ]
  },
  {
   "cell_type": "code",
   "execution_count": 3,
   "id": "94fcf06b",
   "metadata": {},
   "outputs": [],
   "source": [
    "vertex_array = types.f8[:]\n",
    "@njit()\n",
    "def gen_graph_compiled(nverts=3e3, dims=3):\n",
    "    vertices = Dict.empty(\n",
    "        key_type = types.i8,\n",
    "        value_type = vertex_array\n",
    "    )\n",
    "    for i in prange(int(nverts)):\n",
    "        vertices[i] = np.random.uniform(0, 1, dims)\n",
    "    return vertices\n",
    "        "
   ]
  },
  {
   "cell_type": "code",
   "execution_count": 4,
   "id": "d82b8b54",
   "metadata": {},
   "outputs": [
    {
     "name": "stdout",
     "output_type": "stream",
     "text": [
      "CPU times: user 17.2 ms, sys: 8.98 ms, total: 26.2 ms\n",
      "Wall time: 16 ms\n"
     ]
    }
   ],
   "source": [
    "%%time\n",
    "verti = gen_graph_pure()"
   ]
  },
  {
   "cell_type": "code",
   "execution_count": 5,
   "id": "71c9589f",
   "metadata": {},
   "outputs": [
    {
     "name": "stdout",
     "output_type": "stream",
     "text": [
      "CPU times: user 437 ms, sys: 7.58 ms, total: 445 ms\n",
      "Wall time: 446 ms\n"
     ]
    }
   ],
   "source": [
    "%%time\n",
    "vertc = gen_graph_compiled()"
   ]
  },
  {
   "cell_type": "code",
   "execution_count": 6,
   "id": "5bea873a",
   "metadata": {},
   "outputs": [
    {
     "name": "stdout",
     "output_type": "stream",
     "text": [
      "CPU times: user 659 µs, sys: 55 µs, total: 714 µs\n",
      "Wall time: 716 µs\n"
     ]
    }
   ],
   "source": [
    "%%time\n",
    "vertc = gen_graph_compiled()"
   ]
  },
  {
   "cell_type": "code",
   "execution_count": 7,
   "id": "c84afc23",
   "metadata": {},
   "outputs": [],
   "source": [
    "def choose_edges_pure(vertices: dict, min_connections=2, max_connections=-1):\n",
    "    edges = {}\n",
    "    maxxed = []\n",
    "    for i in vertices.keys():\n",
    "        dropped = np.array([i]+maxxed)\n",
    "        other_verts = np.delete(np.array([*vertices]), dropped)\n",
    "        nedges = min_connections\n",
    "        if max_connections < 0:\n",
    "            nedges = min_connections\n",
    "        else:\n",
    "            nedges = np.random.randint(min_connections, max_connections)\n",
    "        these_edges = np.random.choice(other_verts, nedges, replace=False)\n",
    "        edges[i] = these_edges\n",
    "        if len(edges[i]) == max_connections:\n",
    "            maxxed.append(i)\n",
    "        for j in these_edges:\n",
    "            if (j in list(edges.keys())):\n",
    "                edges[j] = np.concatenate((edges[j],np.array([i])))\n",
    "                if len(edges[j]) == max_connections:\n",
    "                    maxxed.append(j)\n",
    "            else:\n",
    "                edges[j] = np.array([i])\n",
    "\n",
    "    return edges"
   ]
  },
  {
   "cell_type": "code",
   "execution_count": 8,
   "id": "7be00cca",
   "metadata": {},
   "outputs": [
    {
     "name": "stdout",
     "output_type": "stream",
     "text": [
      "CPU times: user 1.26 s, sys: 0 ns, total: 1.26 s\n",
      "Wall time: 1.27 s\n"
     ]
    }
   ],
   "source": [
    "%%time\n",
    "edges = choose_edges_pure(verti)"
   ]
  },
  {
   "cell_type": "code",
   "execution_count": 9,
   "id": "437a94b5",
   "metadata": {},
   "outputs": [],
   "source": [
    "vertex_array = types.i8[:]\n",
    "@njit\n",
    "def choose_edges_compiled(vertices: Dict, min_connections=2, max_connections=-1):\n",
    "    edges = Dict.empty(\n",
    "        key_type = types.i8,\n",
    "        value_type = vertex_array\n",
    "    )\n",
    "    maxxed = []\n",
    "    verts = np.array(list(vertices.keys()))\n",
    "    for i in vertices.keys():\n",
    "        dropped = np.array([i]+maxxed)\n",
    "        other_verts = np.delete(verts, dropped)\n",
    "        if max_connections < 0:\n",
    "            nedges = min_connections\n",
    "        else:\n",
    "            nedges = np.random.randint(min_connections, max_connections)\n",
    "        these_edges = np.random.choice(other_verts, nedges, replace=False)\n",
    "        edges[i] = these_edges\n",
    "        if len(edges[i]) == max_connections:\n",
    "            maxxed.append(i)\n",
    "        for j in these_edges:\n",
    "            if (j in list(edges.keys())):\n",
    "                edges[j] = np.concatenate((edges[j],np.array([i])))\n",
    "                if len(edges[j]) == max_connections:\n",
    "                    maxxed.append(j)\n",
    "            else:\n",
    "                edges[j] = np.array([i])\n",
    "\n",
    "    return edges\n",
    "    "
   ]
  },
  {
   "cell_type": "code",
   "execution_count": 10,
   "id": "7747c925",
   "metadata": {},
   "outputs": [
    {
     "name": "stdout",
     "output_type": "stream",
     "text": [
      "CPU times: user 1.42 s, sys: 6.39 ms, total: 1.43 s\n",
      "Wall time: 1.43 s\n"
     ]
    }
   ],
   "source": [
    "%%time\n",
    "edgesc = choose_edges_compiled(vertc)"
   ]
  },
  {
   "cell_type": "code",
   "execution_count": 25,
   "id": "07c58e2d",
   "metadata": {},
   "outputs": [
    {
     "name": "stdout",
     "output_type": "stream",
     "text": [
      "Source vertex: 2835, [0.92713067 0.288936   0.19704476]\n",
      "Target vertex: 2599, [0.19033441 0.29087523 0.44477602]\n"
     ]
    }
   ],
   "source": [
    "source, target = np.random.choice(list(vertc.keys()), 2, False)\n",
    "print(f'Source vertex: {source}, {vertc[source]}')\n",
    "print(f'Target vertex: {target}, {vertc[target]}')"
   ]
  },
  {
   "cell_type": "code",
   "execution_count": 12,
   "id": "50b2bf40",
   "metadata": {},
   "outputs": [],
   "source": [
    "def get_mindist(dist, Q):\n",
    "    dists = np.empty(len(dist), np.float64)\n",
    "    for i in prange(dists.shape[0]):\n",
    "        a = boolean(i in Q)\n",
    "        dists[i] = dist[i] * a + np.float64(10) * (1-a)\n",
    "    return np.argmin(dists)\n",
    "            \n",
    "\n",
    "def dijkstra_pure(verts, edges, source, target):\n",
    "    dist = {}\n",
    "    prev = {}\n",
    "    Q = list(verts.keys())\n",
    "    for v in verts:\n",
    "        dist[v] = 10\n",
    "        prev[v] = -1\n",
    "    dist[source] = 0\n",
    "    while len(Q) > 1:\n",
    "        u = get_mindist(dist, Q)\n",
    "        Q.remove(u)\n",
    "        if u == target:\n",
    "            return dist, prev\n",
    "        for v in edges[u]:\n",
    "            alt = dist[u] + np.linalg.norm(verts[u] - verts[v])\n",
    "            a = boolean(alt < dist[v])\n",
    "            dist[v] = alt * a + dist[v] * (1-a)\n",
    "            prev[v] = u * a + prev[v] * (1-a)\n",
    "    return dist, prev\n",
    "        "
   ]
  },
  {
   "cell_type": "code",
   "execution_count": 13,
   "id": "26288c54",
   "metadata": {},
   "outputs": [],
   "source": [
    "@njit(parallel=True)\n",
    "def get_mindistc(dist, Q):\n",
    "    dists = np.empty(len(dist), np.float64)\n",
    "    for i in prange(dists.shape[0]):\n",
    "        a = boolean(i in Q)\n",
    "        dists[i] = dist[i] * a + np.float64(10) * (1-a)\n",
    "    return np.int64(np.argmin(dists))\n",
    "\n",
    "@njit(parallel=True)\n",
    "def dijkstra_compiled(verts, edges, source, target):\n",
    "    dist = Dict.empty(\n",
    "        key_type = types.i8,\n",
    "        value_type = types.f8\n",
    "    )\n",
    "    prev = Dict.empty(\n",
    "        key_type = types.i8,\n",
    "        value_type = types.i8\n",
    "    )\n",
    "    Q = list(verts.keys())\n",
    "    for v in range(len(verts)):\n",
    "        dist[v] = np.float(10)\n",
    "        prev[v] = np.int64(-1)\n",
    "    dist[source] = 0\n",
    "    while len(Q) > 1:\n",
    "        u = get_mindistc(dist, Q)\n",
    "        Q.remove(u)\n",
    "        if u == target:\n",
    "            return dist, prev\n",
    "        for i in prange(len(edges[u])):\n",
    "            v = edges[u][i]\n",
    "            alt = dist[u] + np.linalg.norm(verts[u] - verts[v])\n",
    "            a = boolean(alt < dist[v])\n",
    "            dist[v] = alt * a + dist[v] * (1-a)\n",
    "            prev[v] = u * a + prev[v] * (1-a)\n",
    "    return dist, prev\n"
   ]
  },
  {
   "cell_type": "code",
   "execution_count": 14,
   "id": "1447c64e",
   "metadata": {},
   "outputs": [],
   "source": [
    "def path_dijkstra(prev, source, target):\n",
    "    s = []\n",
    "    u = target\n",
    "    while u != source:\n",
    "        s.append(u)\n",
    "        u = prev[u]\n",
    "    s.append(source)\n",
    "    return s"
   ]
  },
  {
   "cell_type": "code",
   "execution_count": 26,
   "id": "de562e93",
   "metadata": {},
   "outputs": [
    {
     "name": "stdout",
     "output_type": "stream",
     "text": [
      "CPU times: user 55.9 s, sys: 1.22 ms, total: 55.9 s\n",
      "Wall time: 56 s\n"
     ]
    }
   ],
   "source": [
    "%%time\n",
    "dist, prev = dijkstra_pure(vertc, edgesc, source, target)"
   ]
  },
  {
   "cell_type": "code",
   "execution_count": 33,
   "id": "79a8e7b6",
   "metadata": {},
   "outputs": [
    {
     "name": "stdout",
     "output_type": "stream",
     "text": [
      "CPU times: user 6.62 s, sys: 519 ms, total: 7.14 s\n",
      "Wall time: 689 ms\n"
     ]
    }
   ],
   "source": [
    "%%time\n",
    "distc, prevc = dijkstra_compiled(vertc, edgesc, source, target)"
   ]
  },
  {
   "cell_type": "code",
   "execution_count": 31,
   "id": "4e876a82",
   "metadata": {},
   "outputs": [
    {
     "data": {
      "text/plain": [
       "[2599, 2052, 16, 1589, 89, 9, 2210, 582, 2010, 123, 2835]"
      ]
     },
     "execution_count": 31,
     "metadata": {},
     "output_type": "execute_result"
    }
   ],
   "source": [
    "path_dijkstra(prev, source, target)"
   ]
  },
  {
   "cell_type": "code",
   "execution_count": 32,
   "id": "f115b5ec",
   "metadata": {},
   "outputs": [
    {
     "data": {
      "text/plain": [
       "[2599, 2052, 16, 1589, 89, 9, 2210, 582, 2010, 123, 2835]"
      ]
     },
     "execution_count": 32,
     "metadata": {},
     "output_type": "execute_result"
    }
   ],
   "source": [
    "path_dijkstra(prevc, source, target)"
   ]
  },
  {
   "cell_type": "code",
   "execution_count": 1,
   "id": "a5913ec7",
   "metadata": {},
   "outputs": [
    {
     "data": {
      "text/plain": [
       "3000.0"
      ]
     },
     "execution_count": 1,
     "metadata": {},
     "output_type": "execute_result"
    }
   ],
   "source": [
    "3e3"
   ]
  },
  {
   "cell_type": "code",
   "execution_count": null,
   "id": "991686cb",
   "metadata": {},
   "outputs": [],
   "source": []
  }
 ],
 "metadata": {
  "kernelspec": {
   "display_name": "Python 3",
   "language": "python",
   "name": "python3"
  },
  "language_info": {
   "codemirror_mode": {
    "name": "ipython",
    "version": 3
   },
   "file_extension": ".py",
   "mimetype": "text/x-python",
   "name": "python",
   "nbconvert_exporter": "python",
   "pygments_lexer": "ipython3",
   "version": "3.8.8"
  }
 },
 "nbformat": 4,
 "nbformat_minor": 5
}
